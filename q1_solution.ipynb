{
 "cells": [
  {
   "cell_type": "code",
   "execution_count": null,
   "metadata": {
    "vscode": {
     "languageId": "sql"
    }
   },
   "outputs": [],
   "source": [
    "\"\"\"\n",
    "Table: Countries\n",
    "Description: Stores information about countries\n",
    "\"\"\"\n",
    "CREATE TABLE Countries (\n",
    "    CountryID INT PRIMARY KEY AUTO_INCREMENT,\n",
    "    CountryName VARCHAR(100) NOT NULL\n",
    ");\n"
   ]
  },
  {
   "cell_type": "code",
   "execution_count": null,
   "metadata": {
    "vscode": {
     "languageId": "sql"
    }
   },
   "outputs": [],
   "source": [
    "\"\"\"\n",
    "Table: Cities\n",
    "Description: Stores information about cities\n",
    "\"\"\"\n",
    "CREATE TABLE Cities (\n",
    "    CityID INT PRIMARY KEY AUTO_INCREMENT,\n",
    "    CityName VARCHAR(100) NOT NULL,\n",
    "    CountryID INT NOT NULL,\n",
    "    FOREIGN KEY (CountryID) REFERENCES Countries(CountryID) ON DELETE CASCADE\n",
    ");"
   ]
  },
  {
   "cell_type": "code",
   "execution_count": null,
   "metadata": {
    "vscode": {
     "languageId": "sql"
    }
   },
   "outputs": [],
   "source": [
    "\"\"\"\n",
    "Table: Hotels\n",
    "Description: Stores information about each hotel in the chain\n",
    "\"\"\"\n",
    "CREATE TABLE Hotels (\n",
    "    HotelID INT PRIMARY KEY AUTO_INCREMENT,\n",
    "    HotelName VARCHAR(150) NOT NULL,\n",
    "    Address VARCHAR(255) NOT NULL,\n",
    "    CityID INT NOT NULL,\n",
    "    ZipCode VARCHAR(15),\n",
    "    PhoneNumber VARCHAR(25),\n",
    "    Email VARCHAR(100) UNIQUE NOT NULL,\n",
    "    FOREIGN KEY (CityID) REFERENCES Cities(CityID) ON DELETE CASCADE\n",
    ");\n"
   ]
  },
  {
   "cell_type": "code",
   "execution_count": null,
   "metadata": {
    "vscode": {
     "languageId": "sql"
    }
   },
   "outputs": [],
   "source": [
    "\"\"\"\n",
    "Table: RoomTypes\n",
    "Description: Defines different types of rooms available\n",
    "TypeName can be Single Room, Double Room, Twin Room, Family Room etc...\n",
    "\"\"\"\n",
    "CREATE TABLE RoomTypes (\n",
    "    RoomTypeID INT PRIMARY KEY AUTO_INCREMENT,\n",
    "    TypeName VARCHAR(50) NOT NULL,\n",
    "    Description TEXT\n",
    ");"
   ]
  },
  {
   "cell_type": "code",
   "execution_count": null,
   "metadata": {
    "vscode": {
     "languageId": "sql"
    }
   },
   "outputs": [],
   "source": [
    "\"\"\"\n",
    "Table: Rooms\n",
    "Description: Stores details about each room in every hotel\n",
    "\"\"\"\n",
    "CREATE TABLE Rooms (\n",
    "    RoomID INT PRIMARY KEY AUTO_INCREMENT,\n",
    "    HotelID INT NOT NULL,\n",
    "    RoomNumber VARCHAR(10) NOT NULL,\n",
    "    RoomTypeID INT NOT NULL,\n",
    "    Capacity INT NOT NULL,\n",
    "    PricePerNight DECIMAL(10, 2) NOT NULL,\n",
    "    IsAvailable BOOLEAN NOT NULL DEFAULT TRUE,\n",
    "    FOREIGN KEY (HotelID) REFERENCES Hotels(HotelID) ON DELETE CASCADE,\n",
    "    FOREIGN KEY (RoomTypeID) REFERENCES RoomTypes(RoomTypeID)\n",
    ");\n"
   ]
  },
  {
   "cell_type": "code",
   "execution_count": null,
   "metadata": {
    "vscode": {
     "languageId": "sql"
    }
   },
   "outputs": [],
   "source": [
    "\"\"\"\n",
    "Table: Customers\n",
    "Description: Stores customer information\n",
    "\"\"\"\n",
    "CREATE TABLE Customers (\n",
    "    CustomerID INT PRIMARY KEY AUTO_INCREMENT,\n",
    "    FirstName VARCHAR(100) NOT NULL,\n",
    "    LastName VARCHAR(100) NOT NULL,\n",
    "    Email VARCHAR(100) UNIQUE NOT NULL,\n",
    "    PhoneNumber VARCHAR(25),\n",
    "    Address VARCHAR(255),\n",
    "    CityID INT,\n",
    "    FOREIGN KEY (CityID) REFERENCES Cities(CityID)\n",
    ");\n"
   ]
  },
  {
   "cell_type": "code",
   "execution_count": null,
   "metadata": {
    "vscode": {
     "languageId": "sql"
    }
   },
   "outputs": [],
   "source": [
    "\"\"\"\n",
    "Table: RoomAvailability\n",
    "Description: Tracks the availability of rooms for specific dates.\n",
    "\"\"\"\n",
    "CREATE TABLE RoomAvailability (\n",
    "    RoomID INT NOT NULL,\n",
    "    Date DATE NOT NULL,\n",
    "    IsAvailable BOOLEAN NOT NULL DEFAULT TRUE,\n",
    "    PRIMARY KEY (RoomID, Date),\n",
    "    FOREIGN KEY (RoomID) REFERENCES Rooms(RoomID) ON DELETE CASCADE\n",
    ");\n"
   ]
  },
  {
   "cell_type": "code",
   "execution_count": null,
   "metadata": {
    "vscode": {
     "languageId": "sql"
    }
   },
   "outputs": [],
   "source": [
    "\"\"\"\n",
    "Table: Reservations\n",
    "Description: Stores information about room reservations\n",
    "\"\"\"\n",
    "CREATE TABLE Reservations (\n",
    "    ReservationID INT PRIMARY KEY AUTO_INCREMENT,\n",
    "    CustomerID INT NOT NULL,\n",
    "    RoomID INT NOT NULL,\n",
    "    CheckInDate DATE NOT NULL,\n",
    "    CheckOutDate DATE NOT NULL,\n",
    "    NumberOfGuests INT NOT NULL,\n",
    "    TotalAmount DECIMAL(10, 2) NOT NULL,\n",
    "    ReservationStatus ENUM('Pending', 'Confirmed', 'Cancelled', 'CheckedIn', 'CheckedOut') NOT NULL DEFAULT 'Pending',\n",
    "    CreatedAt TIMESTAMP DEFAULT CURRENT_TIMESTAMP,\n",
    "    UpdatedAt TIMESTAMP DEFAULT CURRENT_TIMESTAMP,\n",
    "    FOREIGN KEY (CustomerID) REFERENCES Customers(CustomerID) ON DELETE CASCADE,\n",
    "    FOREIGN KEY (RoomID) REFERENCES Rooms(RoomID) ON DELETE CASCADE\n",
    ");\n"
   ]
  },
  {
   "cell_type": "code",
   "execution_count": null,
   "metadata": {
    "vscode": {
     "languageId": "sql"
    }
   },
   "outputs": [],
   "source": [
    "\"\"\"\n",
    "Table: Promotions\n",
    "Description: Stores details about promotions and discounts\n",
    "\"\"\"\n",
    "CREATE TABLE Promotions (\n",
    "    PromotionID INT PRIMARY KEY AUTO_INCREMENT,\n",
    "    PromotionCode VARCHAR(50) UNIQUE NOT NULL,\n",
    "    Description TEXT,\n",
    "    DiscountPercentage DECIMAL(5, 2) NOT NULL,\n",
    "    StartDate DATE NOT NULL,\n",
    "    EndDate DATE NOT NULL\n",
    ");"
   ]
  },
  {
   "cell_type": "code",
   "execution_count": null,
   "metadata": {
    "vscode": {
     "languageId": "sql"
    }
   },
   "outputs": [],
   "source": [
    "\"\"\"\n",
    "Table: Payments\n",
    "Description: Stores details about payments made for reservations\n",
    "\"\"\"\n",
    "CREATE TABLE Payments (\n",
    "    PaymentID INT PRIMARY KEY AUTO_INCREMENT,\n",
    "    ReservationID INT NOT NULL,\n",
    "    PaymentDate TIMESTAMP DEFAULT CURRENT_TIMESTAMP,\n",
    "    Amount DECIMAL(10, 2) NOT NULL,\n",
    "    PaymentMethod VARCHAR(50) NOT NULL,\n",
    "    PaymentStatus ENUM('Completed', 'Pending', 'Failed') NOT NULL DEFAULT 'Pending',\n",
    "    FOREIGN KEY (ReservationID) REFERENCES Reservations(ReservationID) ON DELETE CASCADE\n",
    ");\n"
   ]
  },
  {
   "cell_type": "code",
   "execution_count": null,
   "metadata": {
    "vscode": {
     "languageId": "sql"
    }
   },
   "outputs": [],
   "source": [
    "\"\"\"\n",
    "Table: Reviews\n",
    "Description: Stores customer reviews and ratings for hotels\n",
    "\"\"\"\n",
    "CREATE TABLE Reviews (\n",
    "    ReviewID INT PRIMARY KEY AUTO_INCREMENT,\n",
    "    HotelID INT NOT NULL,\n",
    "    RoomID INT NOT NULL,\n",
    "    CustomerID INT NOT NULL,\n",
    "    Rating INT NOT NULL CHECK (Rating >= 1 AND Rating <= 5),\n",
    "    Comment TEXT,\n",
    "    ReviewDate DATE DEFAULT CURRENT_DATE,\n",
    "    FOREIGN KEY (HotelID) REFERENCES Hotels(HotelID) ON DELETE CASCADE,\n",
    "    FOREIGN KEY (CustomerID) REFERENCES Customers(CustomerID) ON DELETE CASCADE,\n",
    "    FOREIGN KEY (RoomID) REFERENCES Rooms(RoomID) ON DELETE CASCADE\n",
    ");\n"
   ]
  },
  {
   "cell_type": "code",
   "execution_count": null,
   "metadata": {
    "vscode": {
     "languageId": "sql"
    }
   },
   "outputs": [],
   "source": [
    "\"\"\"\n",
    "Table: ReservationPromotions\n",
    "\"\"\"\n",
    "CREATE TABLE PromotionsHistory (\n",
    "    ReservationID INT NOT NULL,\n",
    "    PromotionID INT NOT NULL,\n",
    "    PRIMARY KEY (ReservationID, PromotionID),\n",
    "    FOREIGN KEY (ReservationID) REFERENCES Reservations(ReservationID) ON DELETE CASCADE,\n",
    "    FOREIGN KEY (PromotionID) REFERENCES Promotions(PromotionID) ON DELETE CASCADE\n",
    ");\n"
   ]
  },
  {
   "cell_type": "code",
   "execution_count": null,
   "metadata": {
    "vscode": {
     "languageId": "sql"
    }
   },
   "outputs": [],
   "source": [
    "\"\"\"\n",
    "Table: Invoices\n",
    "Description: Stores invoice details for reservations\n",
    "\"\"\"\n",
    "CREATE TABLE Invoices (\n",
    "    InvoiceID INT PRIMARY KEY AUTO_INCREMENT,\n",
    "    ReservationID INT NOT NULL,\n",
    "    InvoiceDate DATE NOT NULL DEFAULT CURRENT_DATE,\n",
    "    Amount DECIMAL(10, 2) NOT NULL,\n",
    "    FOREIGN KEY (ReservationID) REFERENCES Reservations(ReservationID) ON DELETE CASCADE\n",
    ");\n"
   ]
  },
  {
   "cell_type": "code",
   "execution_count": null,
   "metadata": {
    "vscode": {
     "languageId": "sql"
    }
   },
   "outputs": [],
   "source": [
    "\"\"\"\n",
    "Table: BookingHistory\n",
    "Description: Tracks changes made to reservations, useful for audit purposes\n",
    "\"\"\"\n",
    "CREATE TABLE BookingHistory (\n",
    "    HistoryID INT PRIMARY KEY AUTO_INCREMENT,\n",
    "    ReservationID INT NOT NULL,\n",
    "    ChangeDate TIMESTAMP DEFAULT CURRENT_TIMESTAMP,\n",
    "    ChangedBy VARCHAR(100),\n",
    "    ChangeDescription TEXT,\n",
    "    FOREIGN KEY (ReservationID) REFERENCES Reservations(ReservationID) ON DELETE CASCADE\n",
    ");\n"
   ]
  },
  {
   "cell_type": "code",
   "execution_count": null,
   "metadata": {
    "vscode": {
     "languageId": "sql"
    }
   },
   "outputs": [],
   "source": [
    "\"\"\"\n",
    "Table: ReservationPromotions\n",
    "\"\"\"\n",
    "CREATE TABLE LoyaltyPrograms (\n",
    "    ProgramID INT PRIMARY KEY AUTO_INCREMENT,\n",
    "    ProgramName VARCHAR(100) NOT NULL,\n",
    "    Description TEXT,\n",
    "    PointsPerDollar DECIMAL(5, 2) NOT NULL\n",
    ");\n"
   ]
  },
  {
   "cell_type": "code",
   "execution_count": null,
   "metadata": {
    "vscode": {
     "languageId": "sql"
    }
   },
   "outputs": [],
   "source": [
    "\"\"\"\n",
    "Table: CustomerLoyalty\n",
    "\"\"\"\n",
    "CREATE TABLE CustomerLoyalty (\n",
    "    CustomerLoyaltyID INT PRIMARY KEY AUTO_INCREMENT,\n",
    "    CustomerID INT NOT NULL,\n",
    "    ProgramID INT NOT NULL,\n",
    "    PointsEarned INT NOT NULL DEFAULT 0,\n",
    "    FOREIGN KEY (CustomerID) REFERENCES Customers(CustomerID) ON DELETE CASCADE,\n",
    "    FOREIGN KEY (ProgramID) REFERENCES LoyaltyPrograms(ProgramID) ON DELETE CASCADE\n",
    ");\n"
   ]
  },
  {
   "cell_type": "code",
   "execution_count": null,
   "metadata": {
    "vscode": {
     "languageId": "sql"
    }
   },
   "outputs": [],
   "source": [
    "\"\"\"\n",
    "Countries to Cities: One-to-many\n",
    "Cities to Hotels: One-to-many\n",
    "RoomTypes to Rooms: One-to-many\n",
    "Hotels to Rooms: One-to-many\n",
    "Rooms to RoomAvailability: One-to-many\n",
    "Customers to Reservations: One-to-many\n",
    "Reservations to Payments: One-to-many\n",
    "Hotels to Reviews: One-to-many\n",
    "Customers to Reviews: One-to-many\n",
    "Reservations to Invoices: One-to-one\n",
    "Reservations to BookingHistory: One-to-many\n",
    "\"\"\""
   ]
  }
 ],
 "metadata": {
  "language_info": {
   "name": "python"
  }
 },
 "nbformat": 4,
 "nbformat_minor": 2
}
